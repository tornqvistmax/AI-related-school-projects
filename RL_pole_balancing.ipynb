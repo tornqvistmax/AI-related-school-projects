{
  "nbformat": 4,
  "nbformat_minor": 0,
  "metadata": {
    "colab": {
      "name": "Copy of Reinforcement Learning Pole Cart Gym.ipynb",
      "provenance": [],
      "collapsed_sections": []
    },
    "kernelspec": {
      "name": "python3",
      "display_name": "Python 3"
    }
  },
  "cells": [
    {
      "cell_type": "markdown",
      "metadata": {
        "id": "VOItkbI1n9lq"
      },
      "source": [
        "#Sammanfattning\n",
        "I detta projekt så ska vi användas oss utav Reinforcement Learning. Reinforcement Learning är ett ganska brett område men i kort så går det ut på att träna agenter att fatta beslut och agera utefter vad som ger högst ackumelerad belöning. Vad som ger högst ackumelerad belöning lär sig nätverket så småningom med hjälp av träning. Dvs. agenten lär sig av erfarenhet. På detta vis kan man säga att Reinforcement Learning skiljer sig gentemot Supervised Learning, där modellen får träna med hjälp av rätta svar som ges till systemet. Detta förklarar också varför vi behöver ha med en del utforskning när vi bygger vår RL-modell eftersom att det är utforskningen som leder till att vår modell får erfarenhet och lär sig fatta beslut om optimala handlingar. I det här projektet ska vi använda oss av något som kallas Q-learning. Q-learning bygger på något som kallas Q-värden där ett q-värde(Q) motsvarar en uppskattning av hur bra en handling(A) är vid ett givet tillstånd(S). Dessa q-värden uppdateras allteftersom i takt med agenten tränas och får fler erfarenheter. T.ex kan det vara så att en aktion vid ett givet tillstånd ger väldigt lite ackumelerad belöning vid ett träningstillfälle då agenten går bort sig och förlorar i nästa eller nästnästa steg. Detta kan antingen bero på att den första handlingen var fel, men det kan också vara så att de följande handlingarna var de som var avgörande och att den första handlingen därför kan ha getts ett oförtjänt lågt Q-värde. Med hjälp av träning och utforskning kan agenten få möjligt att göra om det första steget och sedan göra på nya sätt. Skulle detta nu gå bättre så kommer Q-värdet för den första aktionen att justeras."
      ]
    },
    {
      "cell_type": "markdown",
      "metadata": {
        "id": "yh_pif_HRwj6"
      },
      "source": [
        "#Vad är Reinforcement Learning?\n"
      ]
    },
    {
      "cell_type": "code",
      "metadata": {
        "id": "wOafCofhnu_0"
      },
      "source": [
        "# Inspired by RL researchers and written by Kalle Prorok for a Deep Learning Course\n",
        "# Umeå Sweden 2019\n",
        "#Importerar nödvändiga bibliotek\n",
        "import random\n",
        "import gym\n",
        "import matplotlib.pyplot as plt\n",
        "from numpy import mean\n",
        "\n",
        "#Definerar antalet försök - Ökar antalet episoder i ett försök att förbättre koden\n",
        "EPISODES = 5000\n",
        "\n",
        "\"\"\"Epsilon definerar med hur stor sannolikhet som agent är beredd att pröva någonting annat än den handling som ger högst Q-värde.\n",
        "Dvs. ett lågt Epsilon kan bidra till att agenten stagnerar i ett lokalt maximum. \n",
        "Vi prövar med att sätta Epsilon till 0.2 för att minska stagnationen.\"\"\"\n",
        "EPSILON = 0.2\n",
        "\n",
        "\"\"\"Definerar hur mycket credit en aktion ska få för framtida rewards,\n",
        "ett värde nära 0 innebär att aktionen inte får mycket credit alls för framtida belöningar \n",
        "och ett värde nära 1 innebär att en aktion får nästan lika mycket belöning från framtida belöningar\n",
        "som från direkt belöning. Vanligt är att ha en discount factor mellan 0,9 och 0,99. \n",
        "Med en discount på 0,95 så kommer kommer belöningar 13 steg(aktioner) ha halva värdet av en direkt belöning.\n",
        "Detta ämnar att lösa \"The Credit Assignment Problem\" genom att visa på att det är flera steg än just\n",
        "bara det allra senaste som bidrar till det slutgiltiga resultatet. \n",
        "Min egna slutsats efter att ha kört agenten ett antal gånger är att en aningen kortsiktigare agenten tycks höja den genomsnittliga prestationen.\"\"\"\n",
        "GAMMA = 0.88\n",
        "\n",
        "#Learning rate definerar hur drastiskt agenten är beredd att ändra och justera sina q-values\n",
        "LEARNING_RATE = 0.02\n",
        "DISCRETE_STEPS = 10     # 10 discretization steps per state variable\n",
        "\n",
        "def argmax(l):\n",
        "    \"\"\" Return the index of the maximum element of a list\n",
        "    \"\"\"\n",
        "    return max(enumerate(l), key=lambda x:x[1])[0]\n",
        "\n",
        "def make_state(observation):\n",
        "    \"\"\" Map a 4-dimensional state to a state index\n",
        "    \"\"\"\n",
        "    low = [-4.8, -10., -0.41, -10.]\n",
        "    high = [4.8, 10., 0.41, 10.]\n",
        "    state = 0\n",
        "\n",
        "    for i in range(4):\n",
        "        # State variable, projected to the [0, 1] range\n",
        "        state_variable = (observation[i] - low[i]) / (high[i] - low[i])\n",
        "\n",
        "        # Discretize. A variable having a value of 0.53 will lead to the integer 5,\n",
        "        # for instance.\n",
        "        state_discrete = int(state_variable * DISCRETE_STEPS)\n",
        "        state_discrete = max(0, state_discrete)\n",
        "        state_discrete = min(DISCRETE_STEPS-1, state_discrete)\n",
        "\n",
        "        state *= DISCRETE_STEPS\n",
        "        state += state_discrete\n",
        "\n",
        "    return state\n"
      ],
      "execution_count": null,
      "outputs": []
    },
    {
      "cell_type": "code",
      "metadata": {
        "id": "8j23pTLxn-UJ",
        "outputId": "f0b33283-eeec-415d-9041-525e115a84df",
        "colab": {
          "base_uri": "https://localhost:8080/",
          "height": 1000
        }
      },
      "source": [
        "def main():\n",
        "    average_cumulative_reward = 0.0\n",
        "\n",
        "    # Create the Gym environment (CartPole)\n",
        "    env = gym.make('CartPole-v1')\n",
        "\n",
        "    print('Action space is:', env.action_space)\n",
        "    print('Observation space is:', env.observation_space)\n",
        "\n",
        "    # Q-table for the discretized states, and two actions\n",
        "    num_states = DISCRETE_STEPS ** 4\n",
        "    qtable = [[0., 0.] for state in range(num_states)]\n",
        "    #Gör en array med belöningar för alla episoder\n",
        "    rewards = []\n",
        "\n",
        "    # Loop over episodes\n",
        "    for i in range(EPISODES):\n",
        "      #Återställer miljön\n",
        "        state = env.reset()\n",
        "        state = make_state(state)\n",
        "\n",
        "        terminate = False\n",
        "\n",
        "        #nollsätter den ackumulerade belöningen\n",
        "        cumulative_reward = 0.0\n",
        "\n",
        "        # Loop over time-steps\n",
        "        while not terminate:\n",
        "            # Compute what the greedy action for the current state is\n",
        "            #Greedy action är den aktion som uppskattas ges högst belöning\n",
        "            qvalues = qtable[state]\n",
        "            #greedy_action hämtas genom att ta argmax på alla q-vvärden\n",
        "            greedy_action = argmax(qvalues)\n",
        "\n",
        "            # Sometimes, the agent takes a random action, to explore the environment (självförklarande)\n",
        "            if random.random() < EPSILON:\n",
        "                action = random.randrange(2)\n",
        "            else:\n",
        "                action = greedy_action\n",
        "\n",
        "            # Perform the action\n",
        "            next_state, reward, terminate, info = env.step(action)  # info is ignored\n",
        "            next_state = make_state(next_state)\n",
        "            # Show the simulated environment. A bit difficult to make it work.            \n",
        "            #env.render()\n",
        "            #print(' Reward:',reward)\n",
        "            # Update the Q-Table\n",
        "            td_error = reward + GAMMA * max(qtable[next_state]) - qtable[state][action]\n",
        "            qtable[state][action] += LEARNING_RATE * td_error\n",
        "            # Update statistics\n",
        "            cumulative_reward += reward\n",
        "            state = next_state\n",
        "        rewards.append(cumulative_reward)\n",
        "        \n",
        "        # Per-episode statistics\n",
        "        if ((i % 100)==0):\n",
        "          print(i, cumulative_reward, sep=',')\n",
        "    \n",
        "    #Skriver ut den högst belöningen samt en graf på hur agenten presterat under de olika episoderna\n",
        "    print(\"highest cumulated reward: \", argmax(rewards))\n",
        "    print(\"average cumulated reward: \", mean(rewards))   \n",
        "    plt.plot(rewards)\n",
        "    plt.xlabel(\"Episode\")\n",
        "    plt.ylabel(\"Sum of rewards\")\n",
        "    plt.show()\n",
        "\n",
        "#if __name__ == '__main__':\n",
        "main()\n",
        "\n"
      ],
      "execution_count": null,
      "outputs": [
        {
          "output_type": "stream",
          "text": [
            "Action space is: Discrete(2)\n",
            "Observation space is: Box(4,)\n",
            "0,12.0\n",
            "100,9.0\n",
            "200,10.0\n",
            "300,41.0\n",
            "400,9.0\n",
            "500,10.0\n",
            "600,9.0\n",
            "700,33.0\n",
            "800,8.0\n",
            "900,11.0\n",
            "1000,10.0\n",
            "1100,17.0\n",
            "1200,9.0\n",
            "1300,11.0\n",
            "1400,8.0\n",
            "1500,13.0\n",
            "1600,12.0\n",
            "1700,26.0\n",
            "1800,10.0\n",
            "1900,9.0\n",
            "2000,11.0\n",
            "2100,14.0\n",
            "2200,10.0\n",
            "2300,11.0\n",
            "2400,164.0\n",
            "2500,35.0\n",
            "2600,178.0\n",
            "2700,143.0\n",
            "2800,42.0\n",
            "2900,42.0\n",
            "3000,92.0\n",
            "3100,13.0\n",
            "3200,186.0\n",
            "3300,174.0\n",
            "3400,140.0\n",
            "3500,151.0\n",
            "3600,12.0\n",
            "3700,169.0\n",
            "3800,14.0\n",
            "3900,37.0\n",
            "4000,11.0\n",
            "4100,153.0\n",
            "4200,40.0\n",
            "4300,13.0\n",
            "4400,151.0\n",
            "4500,22.0\n",
            "4600,25.0\n",
            "4700,10.0\n",
            "4800,32.0\n",
            "4900,198.0\n",
            "highest cumulated reward:  4848\n",
            "average cumulated reward:  47.4408\n"
          ],
          "name": "stdout"
        },
        {
          "output_type": "display_data",
          "data": {
            "image/png": "[encoded data removed]",
            "text/plain": [
              "<Figure size 432x288 with 1 Axes>"
            ]
          },
          "metadata": {
            "tags": []
          }
        }
      ]
    }
  ]
}