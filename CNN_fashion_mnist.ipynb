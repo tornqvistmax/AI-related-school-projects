{
  "nbformat": 4,
  "nbformat_minor": 0,
  "metadata": {
    "colab": {
      "name": "Labb1.ipynb",
      "provenance": [],
      "collapsed_sections": []
    },
    "kernelspec": {
      "name": "python3",
      "display_name": "Python 3"
    },
    "accelerator": "GPU"
  },
  "cells": [
    {
      "cell_type": "markdown",
      "metadata": {
        "id": "CfWh-S9aEPoc"
      },
      "source": [
        "#STEG 1 - Importera bibliotek och tillägg\n",
        "Tillägg och liknande importeras för senare användning. Tensorflow importeras och dess version skrivs ut."
      ]
    },
    {
      "cell_type": "code",
      "metadata": {
        "id": "7jfsCQT4EQ9U",
        "outputId": "b186c53b-e81f-4b72-d987-31773d71ae60",
        "colab": {
          "base_uri": "https://localhost:8080/",
          "height": 34
        }
      },
      "source": [
        "from __future__ import absolute_import, division, print_function, unicode_literals\n",
        "\n",
        "import tensorflow as tf\n",
        "from tensorflow import keras\n",
        "import numpy as np\n",
        "\n",
        "from tensorflow.keras import datasets, layers, models\n",
        "import matplotlib.pyplot as plt\n",
        "print(tf.__version__)"
      ],
      "execution_count": null,
      "outputs": [
        {
          "output_type": "stream",
          "text": [
            "1.15.0\n"
          ],
          "name": "stdout"
        }
      ]
    },
    {
      "cell_type": "markdown",
      "metadata": {
        "id": "rurdhsDJEYNR"
      },
      "source": [
        "#STEG 2 - Importerar datasamlingen från Goggle-api:n\n",
        "Fashion-mnist datasetet hämtas och delas upp utefter test-data och tränings-data."
      ]
    },
    {
      "cell_type": "code",
      "metadata": {
        "id": "fKwWJJ8MEYXN"
      },
      "source": [
        "fashion_mnist = keras.datasets.fashion_mnist\n",
        "\n",
        "(train_images, train_labels), (test_images, test_labels) = fashion_mnist.load_data()"
      ],
      "execution_count": null,
      "outputs": []
    },
    {
      "cell_type": "markdown",
      "metadata": {
        "id": "83m5gHWZEhYo"
      },
      "source": [
        "#STEG 3 - Förbereder datan\n",
        "Här anpassas datan för att kunna behandlas av det vårt CNN. Detta sker i två steg:\n",
        "\n",
        "1. Skalar ner våra värden.\n",
        "\n",
        "2. Anpassar datans dimension till CNN-modellen."
      ]
    },
    {
      "cell_type": "code",
      "metadata": {
        "id": "JcrY5VovEj5j"
      },
      "source": [
        "#1.\n",
        "train_images = train_images / 255.0\n",
        "test_images = test_images / 255.0\n",
        "\n",
        "#2.\n",
        "train_images = np.expand_dims(train_images, axis=3)\n",
        "test_images = np.expand_dims(test_images, axis=3)"
      ],
      "execution_count": null,
      "outputs": []
    },
    {
      "cell_type": "markdown",
      "metadata": {
        "id": "4rhRamjiEtCJ"
      },
      "source": [
        "#STEG 4 - Bygger modellen\n",
        "Detta CNN-nätverk använder sig utav ett flertalet filter för att på så sätt utvinna olika typer av egenskaper hos den inmatade bilden. Det är just denna metodik som utgör grunden för CNNs.\n",
        "\n",
        "Detta nätverk beskriv i flera steg nedan:\n",
        "\n",
        "1. Skapar en modell och definerar den som sekventiell.\n",
        "\n",
        "2. Lägger till ett första convolutional lager (faltningslager) för att på så sätt bitvis undersöka bilden. I koden så anges antalet filter och filterstorleken(filtrets synfält). Utöver detta så används också padding samt strides, där padding bl.a. kommer att medföra att vi får mer information om hörnen på bilderna. Strides kan förklaras som avståndet som våra filter tar mellan två \"blickar\" på vår bild. Därtill så anges också aktiveringsfunktion samt storleken på nätverkets input.\n",
        "\n",
        "3. Reducerar dem spatiala dimensionerna med MaxPooling. Denna kod innebär att man extraherar fyra maxvärden(2x2) för varje synfält som våra filter har skapat(3x3). Detta är en typ av downsampling-teknik som används för att reducera dimensionaliteten av en viss data-representation.\n",
        "\n",
        "4. Lägger till ytterligare ett convolutional lager (faltningslager).\n",
        "\n",
        "5. Reducerar dem spatiala dimensionerna med MaxPooling.\n",
        "\n",
        "6. Lägger till ytterligare ett convolutional lager (faltningslager).\n",
        "\n",
        "7. Plattar till nätverkets dimensioner.\n",
        "\n",
        "8. Adderar ett fullt kopplat lager.\n",
        "\n",
        "9. Lägger till ett output-lager(med tio output-neuroner) samt en softmax-funktion\n",
        "för att få till sannolikhetsfördelningen.\n",
        "\n",
        "10. Kompilerar modellen.\n",
        "\n"
      ]
    },
    {
      "cell_type": "code",
      "metadata": {
        "id": "qk8ObLbQEwjI"
      },
      "source": [
        "#1.\n",
        "model = models.Sequential()\n",
        "\n",
        "#2.\n",
        "model.add(layers.Conv2D(64, (3, 3), strides=(1, 1), padding='same', activation='relu', input_shape=(28, 28, 1)))\n",
        "\n",
        "#3.\n",
        "model.add(layers.MaxPooling2D((2, 2)))\n",
        "#4.\n",
        "model.add(layers.Conv2D(128, (3, 3), activation='relu'))\n",
        "#5.\n",
        "model.add(layers.MaxPooling2D((2, 2)))\n",
        "#6.\n",
        "model.add(layers.Conv2D(256, (3, 3), activation='relu'))\n",
        "\n",
        "#7.\n",
        "model.add(layers.Flatten())\n",
        "\n",
        "#8.\n",
        "model.add(layers.Dense(256, activation='relu'))\n",
        "\n",
        "#9.\n",
        "model.add(layers.Dense(10, activation='softmax'))\n",
        "\n",
        "#10.\n",
        "model.compile(optimizer='adam',\n",
        "              loss='sparse_categorical_crossentropy',\n",
        "              metrics=['accuracy'])"
      ],
      "execution_count": null,
      "outputs": []
    },
    {
      "cell_type": "markdown",
      "metadata": {
        "id": "F6dfrJfFE--M"
      },
      "source": [
        "#STEG 5 - Tränar modellen\n",
        "Modellen tränas och uppdaterar oss om träffsäkerheten och hur det går för loss-funktionen. Till sist får vi en utskrift på träffsäkerheten när samtliga epoker körts."
      ]
    },
    {
      "cell_type": "code",
      "metadata": {
        "id": "8uah_JWecZVx",
        "outputId": "58895de0-c7fe-4ffb-eaa9-6873f77f8f6d",
        "colab": {
          "base_uri": "https://localhost:8080/",
          "height": 445
        }
      },
      "source": [
        "model.fit(train_images, train_labels, epochs=10)\n",
        "\n",
        "test_loss, test_acc = model.evaluate(test_images,  test_labels, verbose=2)\n",
        "\n",
        "print('\\nTest accuracy:', test_acc)"
      ],
      "execution_count": null,
      "outputs": [
        {
          "output_type": "stream",
          "text": [
            "Train on 60000 samples\n",
            "Epoch 1/10\n",
            "60000/60000 [==============================] - 15s 248us/sample - loss: 0.3862 - acc: 0.8582\n",
            "Epoch 2/10\n",
            "60000/60000 [==============================] - 8s 141us/sample - loss: 0.2485 - acc: 0.9086\n",
            "Epoch 3/10\n",
            "60000/60000 [==============================] - 8s 139us/sample - loss: 0.2048 - acc: 0.9233\n",
            "Epoch 4/10\n",
            "60000/60000 [==============================] - 8s 137us/sample - loss: 0.1700 - acc: 0.9362\n",
            "Epoch 5/10\n",
            "60000/60000 [==============================] - 8s 140us/sample - loss: 0.1377 - acc: 0.9480\n",
            "Epoch 6/10\n",
            "60000/60000 [==============================] - 8s 139us/sample - loss: 0.1147 - acc: 0.9562\n",
            "Epoch 7/10\n",
            "60000/60000 [==============================] - 8s 136us/sample - loss: 0.0972 - acc: 0.9621\n",
            "Epoch 8/10\n",
            "60000/60000 [==============================] - 8s 137us/sample - loss: 0.0794 - acc: 0.9703\n",
            "Epoch 9/10\n",
            "60000/60000 [==============================] - 8s 137us/sample - loss: 0.0696 - acc: 0.9739\n",
            "Epoch 10/10\n",
            "60000/60000 [==============================] - 8s 137us/sample - loss: 0.0641 - acc: 0.9761\n",
            "10000/10000 - 1s - loss: 0.3888 - acc: 0.9203\n",
            "\n",
            "Test accuracy: 0.9203\n"
          ],
          "name": "stdout"
        }
      ]
    }
  ]
}