{
  "nbformat": 4,
  "nbformat_minor": 0,
  "metadata": {
    "colab": {
      "name": "Labb 3 - GAN.ipynb",
      "provenance": [],
      "collapsed_sections": []
    },
    "kernelspec": {
      "name": "python3",
      "display_name": "Python 3"
    },
    "accelerator": "GPU"
  },
  "cells": [
    {
      "cell_type": "markdown",
      "metadata": {
        "id": "S6kVivvtKQWu"
      },
      "source": [
        "#Sammanfattning\n",
        "Detta projekt har gjorts i samband med en kurs på Umeå Univeristet där det mesta av koden kommer ifrån googles egna GAN (https://www.tensorflow.org/tutorials/generative/dcgan). Syftet med projektet är att skapa en modell som utifrån MNIST lär sig att generera \"handskrivna\" siffror. Detta sker genom användandet av GAN. GAN står för Generative Adversial Network. Grundenmetodiken i GANs består av en kombination av två neurala nätverk. Där det ena nätverket är av en genererande typ(generator) medans det andra nätverket är av en klassificerande typ(discriminator). Det ena nätverket försöker alltså generera bilder som ser verkliga ut, medan det andra nätverket klassificerar bilderna som verkliga eller overkliga. När det klassificerande nätverket inte längre klarar av att skilja på fiktion och verklighet så har GAN-nätverket antagligen lyckats skapa ganska bra bilder. Det är just metodiken med två nätverk som triggar varandra som särskiljer GAN från många andra typer av nätverk och som gör att vi kan få ut så pass bra bilder, för i takt med att generatorn justeras för att skapa verkligare bilder så justeras också diskriminatorn för att bättre kunna avögra vad som är riktigt och vad som inte är det. Så även om GAN som helhet har ett mål om att producera så bra bilder som möjligt så har det två olika delnätverken helt egna och separata mål. I och med att dessa två mål står i motsats till varandra så blir det som en intern tävling inuti GAN, där båda dessa nätverk försöker uppnå sina mål. För att förstå detta bättre kan man jämföra det med en polis och en tryckare av låtsas-pengar, där utvecklingen av tryckandet hela tiden ställer högre och högre krav på polisen som måste finslipa sina metoder för verifiering av pengar vilket leder till att tryckarna skapar nya metoder för att ta fram låtsas-pengar osv. Denna utveckling sker hela tiden internt i de båda nätverken när de allt eftersom justerar sig själva för att ta fram bättre och mer precisa metoder."
      ]
    },
    {
      "cell_type": "markdown",
      "metadata": {
        "id": "sZgbRP4SKJ_X"
      },
      "source": [
        "#Importerar bibliotek\n",
        "Hämtar olika bibliotek för senare användning. Försöker hämta senaste tensorflow-versionen och skriver ut hämtad version."
      ]
    },
    {
      "cell_type": "code",
      "metadata": {
        "id": "psA_9rE3JW2W",
        "outputId": "a29a9dfb-0929-4473-a41b-2997a2467bba",
        "colab": {
          "base_uri": "https://localhost:8080/",
          "height": 88
        }
      },
      "source": [
        "from __future__ import absolute_import, division, print_function, unicode_literals\n",
        "try:\n",
        "  # %tensorflow_version only exists in Colab.\n",
        "  %tensorflow_version 2.x\n",
        "except Exception:\n",
        "  pass\n",
        "import tensorflow as tf\n",
        "tf.__version__\n",
        "# To generate GIFs\n",
        "!pip install imageio\n",
        "import glob\n",
        "import imageio\n",
        "import matplotlib.pyplot as plt\n",
        "import numpy as np\n",
        "import os\n",
        "import PIL\n",
        "from tensorflow.keras import layers\n",
        "import time\n",
        "\n",
        "from IPython import display"
      ],
      "execution_count": null,
      "outputs": [
        {
          "output_type": "stream",
          "text": [
            "Requirement already satisfied: imageio in /usr/local/lib/python3.6/dist-packages (2.4.1)\n",
            "Requirement already satisfied: numpy in /tensorflow-2.1.0/python3.6 (from imageio) (1.18.1)\n",
            "Requirement already satisfied: pillow in /usr/local/lib/python3.6/dist-packages (from imageio) (6.2.2)\n"
          ],
          "name": "stdout"
        }
      ]
    },
    {
      "cell_type": "markdown",
      "metadata": {
        "id": "C0N6pXVAKFDt"
      },
      "source": [
        "#Laddar datan och förbereder datan\n",
        "Hämtar datan, omformar den samt normaliserar den."
      ]
    },
    {
      "cell_type": "code",
      "metadata": {
        "id": "amp3DDY5OaCI"
      },
      "source": [
        "(train_images, train_labels), (_, _) = tf.keras.datasets.mnist.load_data()\n",
        "train_images = train_images.reshape(train_images.shape[0], 28, 28, 1).astype('float32')\n",
        "train_images = (train_images - 127.5) / 127.5 # Normalize the images to [-1, 1]\n",
        "BUFFER_SIZE = 60000\n",
        "BATCH_SIZE = 256\n",
        "# Batch and shuffle the data\n",
        "train_dataset = tf.data.Dataset.from_tensor_slices(train_images).shuffle(BUFFER_SIZE).batch(BATCH_SIZE)"
      ],
      "execution_count": null,
      "outputs": []
    },
    {
      "cell_type": "markdown",
      "metadata": {
        "id": "GyyBRjI19eop"
      },
      "source": [
        "#Skapar generatorn\n",
        "Här skapas generator-model. Denna generator är tagen från google tutorial och innehåller ett alla-till-alla-lager(dense) samt tre faltningslager, där två av dessa använder sig utav strides med icke-default-värden. Samtliga faktningslager använder sig utav padding."
      ]
    },
    {
      "cell_type": "code",
      "metadata": {
        "id": "SqX-weGyaMfY"
      },
      "source": [
        "def make_generator_model():\n",
        "    model = tf.keras.Sequential()\n",
        "    model.add(layers.Dense(7*7*256, use_bias=False, input_shape=(100,)))\n",
        "    model.add(layers.BatchNormalization())\n",
        "    model.add(layers.LeakyReLU())\n",
        "\n",
        "    model.add(layers.Reshape((7, 7, 256)))\n",
        "    assert model.output_shape == (None, 7, 7, 256) # Note: None is the batch size\n",
        "\n",
        "    model.add(layers.Conv2DTranspose(128, (5, 5), strides=(1, 1), padding='same', use_bias=False))\n",
        "    assert model.output_shape == (None, 7, 7, 128)\n",
        "    model.add(layers.BatchNormalization())\n",
        "    model.add(layers.LeakyReLU())\n",
        "\n",
        "    model.add(layers.Conv2DTranspose(64, (5, 5), strides=(2, 2), padding='same', use_bias=False))\n",
        "    assert model.output_shape == (None, 14, 14, 64)\n",
        "    model.add(layers.BatchNormalization())\n",
        "    model.add(layers.LeakyReLU())\n",
        "\n",
        "    model.add(layers.Conv2DTranspose(1, (5, 5), strides=(2, 2), padding='same', use_bias=False, activation='tanh'))\n",
        "    assert model.output_shape == (None, 28, 28, 1)\n",
        "\n",
        "    return model"
      ],
      "execution_count": null,
      "outputs": []
    },
    {
      "cell_type": "markdown",
      "metadata": {
        "id": "3Lxsq-leT1h8"
      },
      "source": [
        "#Visar bild\n",
        "1. Hämtar modellen och sparar den i en variabel.\n",
        "\n",
        "2. Ger generatorn en randomiserad input som argument och sparar sedan den genererade datan i en variabel. Vår input är det som allteftersom kommer transformeras till vår slutgiltiga output. Där vårt dataset inte ges direkt till generatorn utan snarare påverkar generatorn indirekt via diskriminatorn.\n",
        "\n",
        "3. Visar bilden."
      ]
    },
    {
      "cell_type": "code",
      "metadata": {
        "id": "6jgK95vkgyjk",
        "outputId": "d6eac614-67ed-4b48-b4af-78f7754227a1",
        "colab": {
          "base_uri": "https://localhost:8080/",
          "height": 282
        }
      },
      "source": [
        "#1. \n",
        "generator = make_generator_model()\n",
        "\n",
        "#2.\n",
        "noise = tf.random.normal([1, 100])\n",
        "generated_image = generator(noise, training=False)\n",
        "\n",
        "#3.\n",
        "plt.imshow(generated_image[0, :, :, 0], cmap='gray')"
      ],
      "execution_count": null,
      "outputs": [
        {
          "output_type": "execute_result",
          "data": {
            "text/plain": [
              "<matplotlib.image.AxesImage at 0x7f27103d6438>"
            ]
          },
          "metadata": {
            "tags": []
          },
          "execution_count": 4
        },
        {
          "output_type": "display_data",
          "data": {
            "image/png": "[encoded data removed]",
            "text/plain": [
              "<Figure size 432x288 with 1 Axes>"
            ]
          },
          "metadata": {
            "tags": []
          }
        }
      ]
    },
    {
      "cell_type": "markdown",
      "metadata": {
        "id": "nQ28S1XbXp5T"
      },
      "source": [
        "#Skapar diskriminatorn\n",
        "Skapar en sekventiell modell med tre lager neurala lager(två convolutional och ett alla-till-alla-lager som output). Emellan dessa olika lager så används också dropouts för att undvika overfitting. Detta sker genom att olika neuroner ignoreras under träningen. Utöver detta så används också LeakyReLU som aktiveringsfunktion till de båda faltningslagren. Dessa två lager använder sig också av padding och strides. Filter storleken anges till 5x5. Vår funktion returnerar sedan modellen i sin helhet."
      ]
    },
    {
      "cell_type": "code",
      "metadata": {
        "id": "Rd7Owxc5aTmR"
      },
      "source": [
        "def make_discriminator_model():\n",
        "    model = tf.keras.Sequential()\n",
        "    model.add(layers.Conv2D(64, (5, 5), strides=(2, 2), padding='same',\n",
        "                                     input_shape=[28, 28, 1]))\n",
        "    model.add(layers.LeakyReLU())\n",
        "    model.add(layers.Dropout(0.3))\n",
        "\n",
        "    model.add(layers.Conv2D(128, (5, 5), strides=(2, 2), padding='same'))\n",
        "    model.add(layers.LeakyReLU())\n",
        "    model.add(layers.Dropout(0.3))\n",
        "\n",
        "    model.add(layers.Flatten())\n",
        "    model.add(layers.Dense(1))\n",
        "\n",
        "    return model"
      ],
      "execution_count": null,
      "outputs": []
    },
    {
      "cell_type": "markdown",
      "metadata": {
        "id": "-l_xNdGmcc7Z"
      },
      "source": [
        "#Skriver ut diskriminatorns uppskattning\n",
        "Diskriminatorn hämtas och sparas i en variabel, diskriminatorn anropas sedan med vår tidigare genererade bild som argument i retur får vi diskriminatorns uppskattning av bildens giltighet. Denna uppsktattning skrivs sedan utan genom Pythons print-funktion."
      ]
    },
    {
      "cell_type": "code",
      "metadata": {
        "id": "y0vuWHXThDKq",
        "outputId": "c64c71e2-37ee-47a6-a8d7-c7560bf6f46b",
        "colab": {
          "base_uri": "https://localhost:8080/",
          "height": 34
        }
      },
      "source": [
        "discriminator = make_discriminator_model()\n",
        "decision = discriminator(generated_image)\n",
        "print (decision)"
      ],
      "execution_count": null,
      "outputs": [
        {
          "output_type": "stream",
          "text": [
            "tf.Tensor([[-0.00110725]], shape=(1, 1), dtype=float32)\n"
          ],
          "name": "stdout"
        }
      ]
    },
    {
      "cell_type": "markdown",
      "metadata": {
        "id": "_6DlnMrjKYXC"
      },
      "source": [
        "#Definerar loss- och optimeringsfunktionerna"
      ]
    },
    {
      "cell_type": "code",
      "metadata": {
        "id": "FLNv1lftambi"
      },
      "source": [
        "# This method returns a helper function to compute cross entropy loss\n",
        "cross_entropy = tf.keras.losses.BinaryCrossentropy(from_logits=True)"
      ],
      "execution_count": null,
      "outputs": []
    },
    {
      "cell_type": "markdown",
      "metadata": {
        "id": "4xZ_mS_zoreb"
      },
      "source": [
        "#Definerar diskriminatorns loss-funktion\n",
        "Definerar diskriminatorns loss-funktion, dvs. hur väl diskriminatorn kunde förutsäga huruvida en bild var fake eller riktig."
      ]
    },
    {
      "cell_type": "code",
      "metadata": {
        "id": "19UqpBA0a5xi"
      },
      "source": [
        "def discriminator_loss(real_output, fake_output):\n",
        "    real_loss = cross_entropy(tf.ones_like(real_output), real_output)\n",
        "    fake_loss = cross_entropy(tf.zeros_like(fake_output), fake_output)\n",
        "    total_loss = real_loss + fake_loss\n",
        "    return total_loss"
      ],
      "execution_count": null,
      "outputs": []
    },
    {
      "cell_type": "markdown",
      "metadata": {
        "id": "fueOwI3xpErG"
      },
      "source": [
        "#Definerar generatorns loss-funktion\n",
        "Definerar generatorns loss-funktion, dvs. hur väl generatorn kunde lura diskriminatorn att bilden den producerade var riktig."
      ]
    },
    {
      "cell_type": "code",
      "metadata": {
        "id": "Lla1hDsBbSoI"
      },
      "source": [
        "def generator_loss(fake_output):\n",
        "    return cross_entropy(tf.ones_like(fake_output), fake_output)"
      ],
      "execution_count": null,
      "outputs": []
    },
    {
      "cell_type": "markdown",
      "metadata": {
        "id": "L8bpgK8WpOOk"
      },
      "source": [
        "#Definerar optimiseringsfunktion\n",
        "Definerar två olika optimiseringsfunktioner åt de de två nätverken då de tränas separat."
      ]
    },
    {
      "cell_type": "code",
      "metadata": {
        "id": "JOBpIrkqbW5w"
      },
      "source": [
        "generator_optimizer = tf.keras.optimizers.Adam(1e-4)\n",
        "discriminator_optimizer = tf.keras.optimizers.Adam(1e-4)"
      ],
      "execution_count": null,
      "outputs": []
    },
    {
      "cell_type": "markdown",
      "metadata": {
        "id": "IgLwhNrHc4tl"
      },
      "source": [
        "#Sparar checkpoints"
      ]
    },
    {
      "cell_type": "code",
      "metadata": {
        "id": "lKz-Ufg6c9Ad"
      },
      "source": [
        "checkpoint_dir = './training_checkpoints'\n",
        "checkpoint_prefix = os.path.join(checkpoint_dir, \"ckpt\")\n",
        "checkpoint = tf.train.Checkpoint(generator_optimizer=generator_optimizer,\n",
        "                                 discriminator_optimizer=discriminator_optimizer,\n",
        "                                 generator=generator,\n",
        "                                 discriminator=discriminator)"
      ],
      "execution_count": null,
      "outputs": []
    },
    {
      "cell_type": "markdown",
      "metadata": {
        "id": "ptRuPwo8LB77"
      },
      "source": [
        "#Definerar träningsloopen\n",
        "Träning av GANs sker genom seperat träning av de båda nätverken. Denna träning sker inte parallellt, utan de båda nätverken växlar av varandra i sin träning för att på så sätt utvecklas bitvis. När det ena nätverket blir lite bättre leder det till att det andra nätverket också blir lite bättre."
      ]
    },
    {
      "cell_type": "code",
      "metadata": {
        "id": "PuzGuOafawV_"
      },
      "source": [
        "#Här defineras antalet epoker\n",
        "EPOCHS = 50\n",
        "#Här defineras vårt noise\n",
        "noise_dim = 100\n",
        "\n",
        "#Här anger vi hur många bilder vi vill generera för varje omgång\n",
        "num_examples_to_generate = 16\n",
        "\n",
        "# We will reuse this seed overtime (so it's easier)\n",
        "# to visualize progress in the animated GIF)i\n",
        "seed = tf.random.normal([num_examples_to_generate, noise_dim])"
      ],
      "execution_count": null,
      "outputs": []
    },
    {
      "cell_type": "code",
      "metadata": {
        "id": "zzEFNXtmcPON"
      },
      "source": [
        "# Notice the use of `tf.function`\n",
        "# This annotation causes the function to be \"compiled\".\n",
        "@tf.function\n",
        "def train_step(images):\n",
        "    noise = tf.random.normal([BATCH_SIZE, noise_dim])\n",
        "\n",
        "    with tf.GradientTape() as gen_tape, tf.GradientTape() as disc_tape:\n",
        "      generated_images = generator(noise, training=True)\n",
        "\n",
        "      real_output = discriminator(images, training=True)\n",
        "      fake_output = discriminator(generated_images, training=True)\n",
        "\n",
        "      gen_loss = generator_loss(fake_output)\n",
        "      disc_loss = discriminator_loss(real_output, fake_output)\n",
        "\n",
        "    gradients_of_generator = gen_tape.gradient(gen_loss, generator.trainable_variables)\n",
        "    gradients_of_discriminator = disc_tape.gradient(disc_loss, discriminator.trainable_variables)\n",
        "\n",
        "    generator_optimizer.apply_gradients(zip(gradients_of_generator, generator.trainable_variables))\n",
        "    discriminator_optimizer.apply_gradients(zip(gradients_of_discriminator, discriminator.trainable_variables))\n"
      ],
      "execution_count": null,
      "outputs": []
    },
    {
      "cell_type": "markdown",
      "metadata": {
        "id": "r82tJSg4_Lit"
      },
      "source": [
        "#Definerar en funktion för träningen av GAN"
      ]
    },
    {
      "cell_type": "code",
      "metadata": {
        "id": "w7UNVnTncVZI"
      },
      "source": [
        "def train(dataset, epochs):\n",
        "  #Tar tid för varje epok\n",
        "  for epoch in range(epochs):\n",
        "    start = time.time()\n",
        "\n",
        "    \n",
        "    for image_batch in dataset:\n",
        "      train_step(image_batch)\n",
        "\n",
        "    # Produce images for the GIF as we go\n",
        "    display.clear_output(wait=True)\n",
        "    generate_and_save_images(generator,\n",
        "                             epoch + 1,\n",
        "                             seed)\n",
        "\n",
        "    # Save the model every 15 epochs\n",
        "    if (epoch + 1) % 15 == 0:\n",
        "      checkpoint.save(file_prefix = checkpoint_prefix)\n",
        "\n",
        "    print ('Time for epoch {} is {} sec'.format(epoch + 1, time.time()-start))\n",
        "\n",
        "  # Generate after the final epoch\n",
        "  display.clear_output(wait=True)\n",
        "  generate_and_save_images(generator,\n",
        "                           epochs,\n",
        "                           seed)"
      ],
      "execution_count": null,
      "outputs": []
    },
    {
      "cell_type": "markdown",
      "metadata": {
        "id": "u01PgNfjcf39"
      },
      "source": [
        "#Definerar en funktion för att generera och spara bilder\n"
      ]
    },
    {
      "cell_type": "code",
      "metadata": {
        "id": "FO4SNnKpcfVb"
      },
      "source": [
        "def generate_and_save_images(model, epoch, test_input):\n",
        "  # Notice `training` is set to False.\n",
        "  # This is so all layers run in inference mode (batchnorm).\n",
        "  predictions = model(test_input, training=False)\n",
        "\n",
        "  fig = plt.figure(figsize=(4,4))\n",
        "\n",
        "  for i in range(predictions.shape[0]):\n",
        "      plt.subplot(4, 4, i+1)\n",
        "      plt.imshow(predictions[i, :, :, 0] * 127.5 + 127.5, cmap='gray')\n",
        "      plt.axis('off')\n",
        "\n",
        "  plt.savefig('image_at_epoch_{:04d}.png'.format(epoch))\n",
        "  plt.show()"
      ],
      "execution_count": null,
      "outputs": []
    },
    {
      "cell_type": "markdown",
      "metadata": {
        "id": "27inRR1SLT6L"
      },
      "source": [
        "#Tränar modellen"
      ]
    },
    {
      "cell_type": "code",
      "metadata": {
        "id": "-k7dre6ucbGR",
        "outputId": "da64c82b-2965-482d-dd28-7a9b74d5c09b",
        "colab": {
          "base_uri": "https://localhost:8080/",
          "height": 248
        }
      },
      "source": [
        "train(train_dataset, EPOCHS)"
      ],
      "execution_count": null,
      "outputs": [
        {
          "output_type": "display_data",
          "data": {
            "image/png": "[encoded data removed]",
            "text/plain": [
              "<Figure size 288x288 with 16 Axes>"
            ]
          },
          "metadata": {
            "tags": []
          }
        }
      ]
    },
    {
      "cell_type": "code",
      "metadata": {
        "id": "OhraeRa5dGNU",
        "outputId": "3dc08ff7-bf02-4c25-8ee2-a97a383fefe2",
        "colab": {
          "base_uri": "https://localhost:8080/",
          "height": 34
        }
      },
      "source": [
        "checkpoint.restore(tf.train.latest_checkpoint(checkpoint_dir))"
      ],
      "execution_count": null,
      "outputs": [
        {
          "output_type": "execute_result",
          "data": {
            "text/plain": [
              "<tensorflow.python.training.tracking.util.InitializationOnlyStatus at 0x7f27101239b0>"
            ]
          },
          "metadata": {
            "tags": []
          },
          "execution_count": 17
        }
      ]
    },
    {
      "cell_type": "markdown",
      "metadata": {
        "id": "UXP6KFtPLrIY"
      },
      "source": [
        "#Skapar GIF\n"
      ]
    },
    {
      "cell_type": "code",
      "metadata": {
        "id": "QEX3gSTZdLSR",
        "outputId": "4fc98b25-c7c5-448b-9826-e71717595ed7",
        "colab": {
          "base_uri": "https://localhost:8080/",
          "height": 198
        }
      },
      "source": [
        "# Display a single image using the epoch number\n",
        "def display_image(epoch_no):\n",
        "  return PIL.Image.open('image_at_epoch_{:04d}.png'.format(epoch_no))\n",
        "display_image(EPOCHS)"
      ],
      "execution_count": null,
      "outputs": [
        {
          "output_type": "error",
          "ename": "NameError",
          "evalue": "ignored",
          "traceback": [
            "\u001b[0;31m---------------------------------------------------------------------------\u001b[0m",
            "\u001b[0;31mNameError\u001b[0m                                 Traceback (most recent call last)",
            "\u001b[0;32m<ipython-input-18-43694100aaa1>\u001b[0m in \u001b[0;36m<module>\u001b[0;34m()\u001b[0m\n\u001b[1;32m      1\u001b[0m \u001b[0;32mdef\u001b[0m \u001b[0mdisplay_image\u001b[0m\u001b[0;34m(\u001b[0m\u001b[0mepoch_no\u001b[0m\u001b[0;34m)\u001b[0m\u001b[0;34m:\u001b[0m\u001b[0;34m\u001b[0m\u001b[0;34m\u001b[0m\u001b[0m\n\u001b[1;32m      2\u001b[0m   \u001b[0;32mreturn\u001b[0m \u001b[0mPIL\u001b[0m\u001b[0;34m.\u001b[0m\u001b[0mImage\u001b[0m\u001b[0;34m.\u001b[0m\u001b[0mopen\u001b[0m\u001b[0;34m(\u001b[0m\u001b[0;34m'image_at_epoch_{:04d}.png'\u001b[0m\u001b[0;34m.\u001b[0m\u001b[0mformat\u001b[0m\u001b[0;34m(\u001b[0m\u001b[0mepoch_no\u001b[0m\u001b[0;34m)\u001b[0m\u001b[0;34m)\u001b[0m\u001b[0;34m\u001b[0m\u001b[0;34m\u001b[0m\u001b[0m\n\u001b[0;32m----> 3\u001b[0;31m \u001b[0mdisplay_image\u001b[0m\u001b[0;34m(\u001b[0m\u001b[0mEPOCHS\u001b[0m\u001b[0;34m)\u001b[0m\u001b[0;34m\u001b[0m\u001b[0;34m\u001b[0m\u001b[0m\n\u001b[0m",
            "\u001b[0;31mNameError\u001b[0m: name 'EPOCHS' is not defined"
          ]
        }
      ]
    },
    {
      "cell_type": "code",
      "metadata": {
        "id": "Qu3pP-OedOVS",
        "outputId": "76deae1f-7a38-438a-fb54-dcb9d340d7cc",
        "colab": {
          "base_uri": "https://localhost:8080/",
          "height": 232
        }
      },
      "source": [
        "anim_file = 'dcgan.gif'\n",
        "\n",
        "with imageio.get_writer(anim_file, mode='I') as writer:\n",
        "  filenames = glob.glob('image*.png')\n",
        "  filenames = sorted(filenames)\n",
        "  last = -1\n",
        "  for i,filename in enumerate(filenames):\n",
        "    frame = 2*(i**0.5)\n",
        "    if round(frame) > round(last):\n",
        "      last = frame\n",
        "    else:\n",
        "      continue\n",
        "    image = imageio.imread(filename)\n",
        "    writer.append_data(image)\n",
        "  image = imageio.imread(filename)\n",
        "  writer.append_data(image)\n",
        "\n",
        "import IPython\n",
        "if IPython.version_info > (6,2,0,''):\n",
        "  display.Image(filename=anim_file)\n",
        "\n",
        "try:\n",
        "  from google.colab import files\n",
        "except ImportError:\n",
        "   pass\n",
        "else:\n",
        "  files.download(anim_file)"
      ],
      "execution_count": null,
      "outputs": [
        {
          "output_type": "error",
          "ename": "NameError",
          "evalue": "ignored",
          "traceback": [
            "\u001b[0;31m---------------------------------------------------------------------------\u001b[0m",
            "\u001b[0;31mNameError\u001b[0m                                 Traceback (most recent call last)",
            "\u001b[0;32m<ipython-input-19-27ad84a31bcc>\u001b[0m in \u001b[0;36m<module>\u001b[0;34m()\u001b[0m\n\u001b[1;32m     13\u001b[0m     \u001b[0mimage\u001b[0m \u001b[0;34m=\u001b[0m \u001b[0mimageio\u001b[0m\u001b[0;34m.\u001b[0m\u001b[0mimread\u001b[0m\u001b[0;34m(\u001b[0m\u001b[0mfilename\u001b[0m\u001b[0;34m)\u001b[0m\u001b[0;34m\u001b[0m\u001b[0;34m\u001b[0m\u001b[0m\n\u001b[1;32m     14\u001b[0m     \u001b[0mwriter\u001b[0m\u001b[0;34m.\u001b[0m\u001b[0mappend_data\u001b[0m\u001b[0;34m(\u001b[0m\u001b[0mimage\u001b[0m\u001b[0;34m)\u001b[0m\u001b[0;34m\u001b[0m\u001b[0;34m\u001b[0m\u001b[0m\n\u001b[0;32m---> 15\u001b[0;31m   \u001b[0mimage\u001b[0m \u001b[0;34m=\u001b[0m \u001b[0mimageio\u001b[0m\u001b[0;34m.\u001b[0m\u001b[0mimread\u001b[0m\u001b[0;34m(\u001b[0m\u001b[0mfilename\u001b[0m\u001b[0;34m)\u001b[0m\u001b[0;34m\u001b[0m\u001b[0;34m\u001b[0m\u001b[0m\n\u001b[0m\u001b[1;32m     16\u001b[0m   \u001b[0mwriter\u001b[0m\u001b[0;34m.\u001b[0m\u001b[0mappend_data\u001b[0m\u001b[0;34m(\u001b[0m\u001b[0mimage\u001b[0m\u001b[0;34m)\u001b[0m\u001b[0;34m\u001b[0m\u001b[0;34m\u001b[0m\u001b[0m\n\u001b[1;32m     17\u001b[0m \u001b[0;34m\u001b[0m\u001b[0m\n",
            "\u001b[0;31mNameError\u001b[0m: name 'filename' is not defined"
          ]
        }
      ]
    }
  ]
}