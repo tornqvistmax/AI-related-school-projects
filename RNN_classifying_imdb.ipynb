{
  "nbformat": 4,
  "nbformat_minor": 0,
  "metadata": {
    "colab": {
      "name": "Labb 3 - RNN.ipynb",
      "provenance": [],
      "collapsed_sections": []
    },
    "kernelspec": {
      "name": "python3",
      "display_name": "Python 3"
    }
  },
  "cells": [
    {
      "cell_type": "markdown",
      "metadata": {
        "id": "TZpisUOb0LnX"
      },
      "source": [
        "#Sammanfattning\n",
        "I det här projeketet kommer vi att ägna oss åt sentiment analys, i detta fall vill vi med hjälp av deep learning kunna ta reda på huruvida sentimentent i en filmrecenssion är positivt eller negativt. Detta gör vi genom att hämta färdig data med filmrecensioner från imdb. Denna data delas sedan upp i två delar träningsdata och testdata, där båda dessa delarna också innehåller facit för huruvida sentimentet för texten är positivt eller negativt. Därefter så skapar vi ett LSTM (en typ av RNN) för hantering och träning av datan, där vårt nätverk tar in datan enligt våra definitioner på dess storlek och sedan ger en numerär output som vi tolkar som antingen positiv eller negativ beroende på siffran. Slutligen så ritar vi också grafer på hur bra och träffsäkert vårat nätverk har blivit."
      ]
    },
    {
      "cell_type": "markdown",
      "metadata": {
        "id": "H_9UkApU3BIB"
      },
      "source": [
        "#Vad är RNN?\n",
        "RNN är en typ av nätverk som lämpar sig väl för att behandla sekventiell data, där ny data kan vara beroende av tidigare data. T.ex för att förutsäga banan för en boll som kastats upp i luften så har vi stor användning av att veta var bollen kommer ifrån och dess tidigare riktning för att kunna avgöra vart bollen kommer att hamna härnäst. Att bara kunna hantera bollens nuvarande position gör det väldigt svårt för oss att göra förutsägelser. Detta är ett exempel på en typ av sekventiell data som RNN kan vara bra att använda på. En annan typ av data är text, som också ofta ska avläsas sekventiellt. Exempelvis om man vill slutföra meningar på text som saknar avslut så är information tidigare i meningen viktig för att veta hur meningen ska avslutas, för denna typ av problem används ofta LSTM(Long Short-Term Memory) som för det mesta är effektivare på den typen av längre sekvensiella beroenden. Då vi i detta projekt ska behandla just text så kommer vi därför att jobba med LSTM."
      ]
    },
    {
      "cell_type": "markdown",
      "metadata": {
        "id": "i_GJXaJGupKl"
      },
      "source": [
        "#Importerar bibliotek och tillägg"
      ]
    },
    {
      "cell_type": "code",
      "metadata": {
        "id": "F2wLVC5ur_Ci",
        "colab": {
          "base_uri": "https://localhost:8080/",
          "height": 80
        },
        "outputId": "f60b7398-28fc-4851-ee9e-165d09b6da5e"
      },
      "source": [
        "import keras\n",
        "keras.__version__\n",
        "from keras.models import Sequential\n",
        "from keras.layers import Embedding, LSTM\n",
        "import numpy as np\n"
      ],
      "execution_count": null,
      "outputs": [
        {
          "output_type": "stream",
          "text": [
            "Using TensorFlow backend.\n"
          ],
          "name": "stderr"
        },
        {
          "output_type": "display_data",
          "data": {
            "text/html": [
              "<p style=\"color: red;\">\n",
              "The default version of TensorFlow in Colab will soon switch to TensorFlow 2.x.<br>\n",
              "We recommend you <a href=\"https://www.tensorflow.org/guide/migrate\" target=\"_blank\">upgrade</a> now \n",
              "or ensure your notebook will continue to use TensorFlow 1.x via the <code>%tensorflow_version 1.x</code> magic:\n",
              "<a href=\"https://colab.research.google.com/notebooks/tensorflow_version.ipynb\" target=\"_blank\">more info</a>.</p>\n"
            ],
            "text/plain": [
              "<IPython.core.display.HTML object>"
            ]
          },
          "metadata": {
            "tags": []
          }
        }
      ]
    },
    {
      "cell_type": "markdown",
      "metadata": {
        "id": "EINVBRDTvGSw"
      },
      "source": [
        "#Importerar och förbereder datan\n",
        "1. Hämtar vårt dataset.\n",
        "\n",
        "2. Sparar datan.\n",
        "\n",
        "3. Räknar ut genomsnittlängden samt medianen på datan för att sätta rimlig maximum length. Där efter skriver vi ut dessa värden. Sedan anger vi maxlen samt batch_size.\n",
        "\n",
        "4. Här ger vi padding för att fylla ut sekvenser som är mindre än vår maxlen och förminskar de sekvenser som är längre än vår maxlen. Detta anger som 'post' för att se till att det sker i slutet av sekvenserna. Sedan skriver vi ut vår data för att se att den fått rätt storlek."
      ]
    },
    {
      "cell_type": "code",
      "metadata": {
        "id": "PChx_0vrtO1L",
        "outputId": "39859139-31ef-4d71-9f48-4440934e740b",
        "colab": {
          "base_uri": "https://localhost:8080/",
          "height": 187
        }
      },
      "source": [
        "#1.\n",
        "from keras.datasets import imdb\n",
        "from keras.preprocessing import sequence\n",
        "\n",
        "#2.\n",
        "max_features = 10000  # number of words to consider as features\n",
        "print('Loading data...')\n",
        "(input_train, output_train), (input_test, output_test) = imdb.load_data(num_words=max_features)\n",
        "print(len(input_train), 'train sequences')\n",
        "print(len(input_test), 'test sequences')\n",
        "\n",
        "#3.\n",
        "average_length = np.mean([len(x) for x in input_train])\n",
        "median_length = sorted([len(x) for x in input_train])[len(input_train) // 2]\n",
        "print('average text length:', average_length)\n",
        "print('median text length:', median_length)\n",
        "\n",
        "maxlen = 250  # cut texts after this number of words (among top max_features most common words)\n",
        "batch_size = 32\n",
        "\n",
        "#4.\n",
        "print('Pad sequences (samples x time)')\n",
        "input_train = sequence.pad_sequences(input_train, maxlen=maxlen, padding='post', truncating=\"post\")\n",
        "input_test = sequence.pad_sequences(input_test, maxlen=maxlen, padding='post', truncating=\"post\")\n",
        "print('input_train shape:', input_train.shape)\n",
        "print('input_test shape:', input_test.shape)"
      ],
      "execution_count": null,
      "outputs": [
        {
          "output_type": "stream",
          "text": [
            "Loading data...\n",
            "Downloading data from https://s3.amazonaws.com/text-datasets/imdb.npz\n",
            "17465344/17464789 [==============================] - 1s 0us/step\n",
            "25000 train sequences\n",
            "25000 test sequences\n",
            "average text length: 238.71364\n",
            "median text length: 178\n",
            "Pad sequences (samples x time)\n",
            "input_train shape: (25000, 250)\n",
            "input_test shape: (25000, 250)\n"
          ],
          "name": "stdout"
        }
      ]
    },
    {
      "cell_type": "markdown",
      "metadata": {
        "id": "E7yNCWkpoMEp"
      },
      "source": [
        "#Skapar vår modell\n",
        "\n",
        "Skapar en sekventiell modell och lägger till ett embedding-lager där två argument anges: storleken av vårt vokabulär(max_features) samt storleken på våra output-vektorer från detta lager. Därefter läggs ett LSTM-lager till, där enbart output-storleken defineras, resten lämnas till default-inställningarna. Slutligen så lägger vi också till vårt output-lager.\n",
        "\n",
        "#Kompilerar och tränar\n",
        "Här kompilerar vi först vår modell och anger optimiseringsmetod, loss-funktion samt vad vi är intresserade av att mäta. Därefter skapar vi träningen för modellen och anger antalet epoker som vi vill köra, storlek på vår batch samt valideringssplittring."
      ]
    },
    {
      "cell_type": "code",
      "metadata": {
        "id": "vYqAOzd9vTRd",
        "outputId": "2307ac37-b321-4966-b671-0886fd341ffe",
        "colab": {
          "base_uri": "https://localhost:8080/",
          "height": 887
        }
      },
      "source": [
        "from keras.layers import Dense\n",
        "model = Sequential()\n",
        "model.add(Embedding(max_features, 32))\n",
        "model.add(LSTM(32))\n",
        "model.add(Dense(1, activation='sigmoid'))\n",
        "\n",
        "model.compile(optimizer='rmsprop', loss='binary_crossentropy', metrics=['acc'])\n",
        "history = model.fit(input_train, output_train,\n",
        "                    epochs=10,\n",
        "                    batch_size=128,\n",
        "                    validation_split=0.2)"
      ],
      "execution_count": null,
      "outputs": [
        {
          "output_type": "stream",
          "text": [
            "WARNING:tensorflow:From /usr/local/lib/python3.6/dist-packages/keras/backend/tensorflow_backend.py:66: The name tf.get_default_graph is deprecated. Please use tf.compat.v1.get_default_graph instead.\n",
            "\n",
            "WARNING:tensorflow:From /usr/local/lib/python3.6/dist-packages/keras/backend/tensorflow_backend.py:541: The name tf.placeholder is deprecated. Please use tf.compat.v1.placeholder instead.\n",
            "\n",
            "WARNING:tensorflow:From /usr/local/lib/python3.6/dist-packages/keras/backend/tensorflow_backend.py:4432: The name tf.random_uniform is deprecated. Please use tf.random.uniform instead.\n",
            "\n",
            "WARNING:tensorflow:From /usr/local/lib/python3.6/dist-packages/keras/optimizers.py:793: The name tf.train.Optimizer is deprecated. Please use tf.compat.v1.train.Optimizer instead.\n",
            "\n",
            "WARNING:tensorflow:From /usr/local/lib/python3.6/dist-packages/keras/backend/tensorflow_backend.py:3657: The name tf.log is deprecated. Please use tf.math.log instead.\n",
            "\n",
            "WARNING:tensorflow:From /usr/local/lib/python3.6/dist-packages/tensorflow_core/python/ops/nn_impl.py:183: where (from tensorflow.python.ops.array_ops) is deprecated and will be removed in a future version.\n",
            "Instructions for updating:\n",
            "Use tf.where in 2.0, which has the same broadcast rule as np.where\n",
            "WARNING:tensorflow:From /usr/local/lib/python3.6/dist-packages/keras/backend/tensorflow_backend.py:1033: The name tf.assign_add is deprecated. Please use tf.compat.v1.assign_add instead.\n",
            "\n",
            "WARNING:tensorflow:From /usr/local/lib/python3.6/dist-packages/keras/backend/tensorflow_backend.py:1020: The name tf.assign is deprecated. Please use tf.compat.v1.assign instead.\n",
            "\n",
            "WARNING:tensorflow:From /usr/local/lib/python3.6/dist-packages/keras/backend/tensorflow_backend.py:3005: The name tf.Session is deprecated. Please use tf.compat.v1.Session instead.\n",
            "\n",
            "Train on 20000 samples, validate on 5000 samples\n",
            "Epoch 1/10\n",
            "WARNING:tensorflow:From /usr/local/lib/python3.6/dist-packages/keras/backend/tensorflow_backend.py:190: The name tf.get_default_session is deprecated. Please use tf.compat.v1.get_default_session instead.\n",
            "\n",
            "WARNING:tensorflow:From /usr/local/lib/python3.6/dist-packages/keras/backend/tensorflow_backend.py:197: The name tf.ConfigProto is deprecated. Please use tf.compat.v1.ConfigProto instead.\n",
            "\n",
            "WARNING:tensorflow:From /usr/local/lib/python3.6/dist-packages/keras/backend/tensorflow_backend.py:207: The name tf.global_variables is deprecated. Please use tf.compat.v1.global_variables instead.\n",
            "\n",
            "WARNING:tensorflow:From /usr/local/lib/python3.6/dist-packages/keras/backend/tensorflow_backend.py:216: The name tf.is_variable_initialized is deprecated. Please use tf.compat.v1.is_variable_initialized instead.\n",
            "\n",
            "WARNING:tensorflow:From /usr/local/lib/python3.6/dist-packages/keras/backend/tensorflow_backend.py:223: The name tf.variables_initializer is deprecated. Please use tf.compat.v1.variables_initializer instead.\n",
            "\n",
            "20000/20000 [==============================] - 44s 2ms/step - loss: 0.6929 - acc: 0.5136 - val_loss: 0.6761 - val_acc: 0.5666\n",
            "Epoch 2/10\n",
            "20000/20000 [==============================] - 43s 2ms/step - loss: 0.6472 - acc: 0.6503 - val_loss: 0.5782 - val_acc: 0.7396\n",
            "Epoch 3/10\n",
            "20000/20000 [==============================] - 44s 2ms/step - loss: 0.5299 - acc: 0.7624 - val_loss: 0.4740 - val_acc: 0.8094\n",
            "Epoch 4/10\n",
            "20000/20000 [==============================] - 43s 2ms/step - loss: 0.4287 - acc: 0.8394 - val_loss: 0.4686 - val_acc: 0.7910\n",
            "Epoch 5/10\n",
            "20000/20000 [==============================] - 43s 2ms/step - loss: 0.3637 - acc: 0.8706 - val_loss: 0.3633 - val_acc: 0.8568\n",
            "Epoch 6/10\n",
            "20000/20000 [==============================] - 43s 2ms/step - loss: 0.3158 - acc: 0.8919 - val_loss: 0.3551 - val_acc: 0.8558\n",
            "Epoch 7/10\n",
            "20000/20000 [==============================] - 43s 2ms/step - loss: 0.2784 - acc: 0.9059 - val_loss: 0.4971 - val_acc: 0.7834\n",
            "Epoch 8/10\n",
            "20000/20000 [==============================] - 42s 2ms/step - loss: 0.2543 - acc: 0.9129 - val_loss: 0.4471 - val_acc: 0.8634\n",
            "Epoch 9/10\n",
            "20000/20000 [==============================] - 43s 2ms/step - loss: 0.2319 - acc: 0.9229 - val_loss: 0.3572 - val_acc: 0.8762\n",
            "Epoch 10/10\n",
            "20000/20000 [==============================] - 42s 2ms/step - loss: 0.2169 - acc: 0.9324 - val_loss: 0.4172 - val_acc: 0.8672\n"
          ],
          "name": "stdout"
        }
      ]
    },
    {
      "cell_type": "markdown",
      "metadata": {
        "id": "bGqHS_zvtLuq"
      },
      "source": [
        "#Skriver ut resultaten\n",
        "Här skriver vi ut resultaten."
      ]
    },
    {
      "cell_type": "code",
      "metadata": {
        "id": "YIbWfIIKvkea",
        "colab": {
          "base_uri": "https://localhost:8080/",
          "height": 545
        },
        "outputId": "98c12e05-5f28-4885-b7dc-ff46349c0ff0"
      },
      "source": [
        "import matplotlib.pyplot as plt\n",
        "\n",
        "acc = history.history['acc']\n",
        "val_acc = history.history['val_acc']\n",
        "loss = history.history['loss']\n",
        "val_loss = history.history['val_loss']\n",
        "\n",
        "epochs = range(len(acc))\n",
        "\n",
        "plt.plot(epochs, acc, 'bo', label='Training acc')\n",
        "plt.plot(epochs, val_acc, 'b', label='Validation acc')\n",
        "plt.title('Training and validation accuracy')\n",
        "plt.legend()\n",
        "\n",
        "plt.figure()\n",
        "\n",
        "plt.plot(epochs, loss, 'bo', label='Training loss')\n",
        "plt.plot(epochs, val_loss, 'b', label='Validation loss')\n",
        "plt.title('Training and validation loss')\n",
        "plt.legend()\n",
        "\n",
        "plt.show()"
      ],
      "execution_count": null,
      "outputs": [
        {
          "output_type": "display_data",
          "data": {
            "image/png": "[encoded data removed]",
            "text/plain": [
              "<Figure size 432x288 with 1 Axes>"
            ]
          },
          "metadata": {
            "tags": []
          }
        },
        {
          "output_type": "display_data",
          "data": {
            "image/png": "[encoded data removed]",
            "text/plain": [
              "<Figure size 432x288 with 1 Axes>"
            ]
          },
          "metadata": {
            "tags": []
          }
        }
      ]
    }
  ]
}